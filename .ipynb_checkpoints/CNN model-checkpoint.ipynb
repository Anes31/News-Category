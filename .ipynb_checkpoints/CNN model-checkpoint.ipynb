{
 "cells": [
  {
   "cell_type": "code",
   "execution_count": 1,
   "id": "5e87eded",
   "metadata": {},
   "outputs": [],
   "source": [
    "import numpy as np\n",
    "import pandas as pd\n",
    "import dask.dataframe as dd\n",
    "\n",
    "from sklearn.feature_extraction.text import TfidfVectorizer\n",
    "from sklearn.model_selection import KFold, cross_val_score, train_test_split\n",
    "from sklearn.pipeline import make_pipeline\n",
    "from sklearn.ensemble import RandomForestClassifier\n",
    "\n",
    "import nltk\n",
    "from nltk.tokenize import word_tokenize\n",
    "from nltk.corpus import stopwords\n",
    "from nltk.stem import SnowballStemmer\n",
    "\n",
    "from keras.preprocessing.text import Tokenizer\n",
    "from keras.utils.data_utils import pad_sequences\n",
    "from keras.utils import to_categorical\n",
    "from keras.models import Sequential\n",
    "from keras.layers import Embedding, Conv1D, GlobalMaxPooling1D, Dense\n",
    "\n",
    "import tensorflow as tf\n",
    "tf.config.run_functions_eagerly(True)\n",
    "tf.data.experimental.enable_debug_mode()"
   ]
  },
  {
   "cell_type": "markdown",
   "id": "9b6a7393-3627-40bc-904d-2bba64e5dc42",
   "metadata": {},
   "source": [
    "# Load Data"
   ]
  },
  {
   "cell_type": "code",
   "execution_count": 2,
   "id": "671d84a9-0578-4e31-afbd-ba7079c9fda0",
   "metadata": {},
   "outputs": [],
   "source": [
    "train0 = pd.read_excel('Data_Train.xlsx')\n",
    "test0 = pd.read_excel('Data_Test.xlsx')"
   ]
  },
  {
   "cell_type": "markdown",
   "id": "e741e4fe-dd52-42c0-aec2-2427689169d7",
   "metadata": {},
   "source": [
    "# Convert Pandas to Dask"
   ]
  },
  {
   "cell_type": "code",
   "execution_count": 3,
   "id": "a4ff99ed",
   "metadata": {},
   "outputs": [],
   "source": [
    "train1 = dd.from_pandas(train0, npartitions=4)\n",
    "test1 = dd.from_pandas(test0, npartitions=4)"
   ]
  },
  {
   "cell_type": "code",
   "execution_count": 4,
   "id": "9b6de1ed",
   "metadata": {},
   "outputs": [],
   "source": [
    "target = train1.SECTION.compute()\n",
    "train2 = train1.drop('SECTION', axis=1).copy()"
   ]
  },
  {
   "cell_type": "markdown",
   "id": "b68cd256-7f0d-4085-853c-101efa22d44c",
   "metadata": {},
   "source": [
    "# Combine train/test"
   ]
  },
  {
   "cell_type": "code",
   "execution_count": 5,
   "id": "71b8349a-e204-4a34-a22c-8dbd0c7f3b30",
   "metadata": {},
   "outputs": [],
   "source": [
    "data = dd.concat([train2, test1])"
   ]
  },
  {
   "cell_type": "markdown",
   "id": "80edddda",
   "metadata": {},
   "source": [
    "# Feature Transformation"
   ]
  },
  {
   "cell_type": "code",
   "execution_count": 6,
   "id": "92b7f054-d776-4c44-ab13-041f65abb767",
   "metadata": {},
   "outputs": [],
   "source": [
    "#nltk.download('punkt')\n",
    "data['STORY'] = data['STORY'].apply(nltk.word_tokenize, meta=('STORY', 'object'))\n",
    "\n",
    "#nltk.download('stopwords')\n",
    "stop_words = set(stopwords.words(\"english\"))\n",
    "data['STORY'] = data['STORY'].apply(lambda x: [word for word in x if word.lower() not in stop_words], meta=('STORY', 'object'))\n",
    "\n",
    "data['STORY'] = data['STORY'].apply(lambda x: [word.lower() for word in x], meta=('STORY', 'object'))\n",
    "\n",
    "stemmer = SnowballStemmer(\"english\")\n",
    "data['STORY'] = data['STORY'].apply(lambda x: [stemmer.stem(word) for word in x], meta=('STORY', 'object'))\n",
    "\n",
    "data['STORY'] = data['STORY'].apply(lambda x: ' '.join(x), meta=('STORY', 'object'))\n",
    "\n",
    "data_final = data.compute()"
   ]
  },
  {
   "cell_type": "markdown",
   "id": "4d6e9044-bcfc-40ee-931e-e7c74d2d4e7a",
   "metadata": {},
   "source": [
    "# Split train/test"
   ]
  },
  {
   "cell_type": "code",
   "execution_count": 7,
   "id": "2d041abb-f0e7-4ca7-bc12-c160b18104fe",
   "metadata": {},
   "outputs": [],
   "source": [
    "train_final = data_final.iloc[:len(train0), :]\n",
    "test_final = data_final.iloc[len(train0):, :]"
   ]
  },
  {
   "cell_type": "markdown",
   "id": "17f87faf",
   "metadata": {},
   "source": [
    "# Base Model (TFIDF/Random Forest)"
   ]
  },
  {
   "cell_type": "code",
   "execution_count": 8,
   "id": "1ce7100a-8332-4da5-a6e8-d5f5eed679a0",
   "metadata": {},
   "outputs": [
    {
     "name": "stdout",
     "output_type": "stream",
     "text": [
      "Accuracy: 0.95\n"
     ]
    }
   ],
   "source": [
    "pipeline = make_pipeline(TfidfVectorizer(), RandomForestClassifier(random_state=0))\n",
    "\n",
    "results=[]\n",
    "\n",
    "kf = KFold(n_splits=5)\n",
    "r = cross_val_score(pipeline, train_final.STORY, target, scoring='accuracy', cv=kf)\n",
    "results.append(r)\n",
    "print(f'Accuracy: {round(np.mean(results), 2)}')"
   ]
  },
  {
   "cell_type": "markdown",
   "id": "78c73c07-8050-414d-a053-4cc66eb8a78a",
   "metadata": {},
   "source": [
    "# Data Preprocessing"
   ]
  },
  {
   "cell_type": "code",
   "execution_count": 9,
   "id": "fe08acec-c90d-4b7e-9110-488c8ad1c76e",
   "metadata": {},
   "outputs": [],
   "source": [
    "tokenizer = Tokenizer()\n",
    "tokenizer.fit_on_texts(data_final.STORY)\n",
    "sequences = tokenizer.texts_to_sequences(data_final.STORY)\n",
    "max_sequence_length = max([len(seq) for seq in sequences])\n",
    "padded_sequences = pad_sequences(sequences, maxlen=max_sequence_length)"
   ]
  },
  {
   "cell_type": "markdown",
   "id": "158e1038-236f-4187-aa9c-dd76f35a6869",
   "metadata": {},
   "source": [
    "# Split train/test"
   ]
  },
  {
   "cell_type": "code",
   "execution_count": 10,
   "id": "356c52cf-56b0-4075-b1f9-5900b44dbced",
   "metadata": {},
   "outputs": [],
   "source": [
    "train_final = padded_sequences[:len(train0), :]\n",
    "test_final = padded_sequences[len(train0):, :]"
   ]
  },
  {
   "cell_type": "code",
   "execution_count": 11,
   "id": "2b117563-cd88-48db-bda5-b7b16ae1ed41",
   "metadata": {},
   "outputs": [],
   "source": [
    "X_train, X_test, y_train, y_test = train_test_split(train_final, target, test_size=0.2, random_state=0)"
   ]
  },
  {
   "cell_type": "markdown",
   "id": "970bb0b8-a7d9-468a-9e12-1fe43036ef9c",
   "metadata": {},
   "source": [
    "# Define model (Embedding/CNN)"
   ]
  },
  {
   "cell_type": "code",
   "execution_count": 12,
   "id": "049baa92-48f1-4cf1-ae6b-115e0f0d0b70",
   "metadata": {},
   "outputs": [],
   "source": [
    "model = Sequential()\n",
    "model.add(Embedding(input_dim=len(tokenizer.word_index) + 1, output_dim=512, input_length=max_sequence_length))\n",
    "model.add(Conv1D(128, 5, activation='relu'))\n",
    "model.add(GlobalMaxPooling1D())\n",
    "model.add(Dense(64, activation='relu'))\n",
    "model.add(Dense(4, activation='softmax'))"
   ]
  },
  {
   "cell_type": "markdown",
   "id": "4e06e77f-2c78-44ca-90ac-046f3b6cd161",
   "metadata": {},
   "source": [
    "# Model Compilation"
   ]
  },
  {
   "cell_type": "code",
   "execution_count": 13,
   "id": "6d4e08e2-7524-433d-ae89-20a5d03038f1",
   "metadata": {},
   "outputs": [],
   "source": [
    "model.compile(optimizer='adam', loss='categorical_crossentropy', metrics=['accuracy'])"
   ]
  },
  {
   "cell_type": "markdown",
   "id": "b2e43928-3342-40ea-b533-28f203cb94a9",
   "metadata": {},
   "source": [
    "# Target Transformation"
   ]
  },
  {
   "cell_type": "code",
   "execution_count": 14,
   "id": "a857707e-6fb4-4c08-9ed6-f341833cd78a",
   "metadata": {},
   "outputs": [],
   "source": [
    "# Convert labels to one-hot encoding\n",
    "y_train = to_categorical(y_train, 4)\n",
    "y_test = to_categorical(y_test, 4)"
   ]
  },
  {
   "cell_type": "markdown",
   "id": "b9a036e2-f7d9-49f2-b8bf-81d3c62b3a7c",
   "metadata": {},
   "source": [
    "# Model Training"
   ]
  },
  {
   "cell_type": "code",
   "execution_count": 15,
   "id": "8b8cbf1f-0889-4a5b-9523-dab337484f4c",
   "metadata": {},
   "outputs": [
    {
     "name": "stdout",
     "output_type": "stream",
     "text": [
      "Epoch 1/5\n",
      "191/191 [==============================] - 78s 406ms/step - loss: 0.3968 - accuracy: 0.8617 - val_loss: 0.1135 - val_accuracy: 0.9640\n",
      "Epoch 2/5\n",
      "191/191 [==============================] - 82s 427ms/step - loss: 0.0329 - accuracy: 0.9898 - val_loss: 0.1019 - val_accuracy: 0.9685\n",
      "Epoch 3/5\n",
      "191/191 [==============================] - 79s 412ms/step - loss: 0.0080 - accuracy: 0.9974 - val_loss: 0.0802 - val_accuracy: 0.9758\n",
      "Epoch 4/5\n",
      "191/191 [==============================] - 79s 416ms/step - loss: 0.0056 - accuracy: 0.9974 - val_loss: 0.0791 - val_accuracy: 0.9764\n",
      "Epoch 5/5\n",
      "191/191 [==============================] - 80s 419ms/step - loss: 0.0052 - accuracy: 0.9974 - val_loss: 0.0830 - val_accuracy: 0.9777\n"
     ]
    },
    {
     "data": {
      "text/plain": [
       "<keras.callbacks.History at 0x2150d798f08>"
      ]
     },
     "execution_count": 15,
     "metadata": {},
     "output_type": "execute_result"
    }
   ],
   "source": [
    "model.fit(X_train, y_train, epochs=5, batch_size=32, validation_data=(X_test, y_test))"
   ]
  },
  {
   "cell_type": "markdown",
   "id": "e8c4af8b-a8c3-4037-bd8b-db3562e43f89",
   "metadata": {},
   "source": [
    "# Evaluation"
   ]
  },
  {
   "cell_type": "code",
   "execution_count": 16,
   "id": "f6f26ec5-367d-491c-a73b-a30d1d2079c1",
   "metadata": {},
   "outputs": [
    {
     "name": "stdout",
     "output_type": "stream",
     "text": [
      "48/48 [==============================] - 2s 42ms/step - loss: 0.0830 - accuracy: 0.9777\n",
      "Test loss: 0.08301597088575363\n",
      "Test accuracy: 0.9777195453643799\n"
     ]
    }
   ],
   "source": [
    "loss, accuracy = model.evaluate(X_test, y_test, batch_size=32)\n",
    "print(\"Test loss:\", loss)\n",
    "print(\"Test accuracy:\", accuracy)"
   ]
  },
  {
   "cell_type": "markdown",
   "id": "dc1c5236-fd43-47b0-a223-71fc6ae8df9a",
   "metadata": {},
   "source": [
    "# Prediction"
   ]
  },
  {
   "cell_type": "code",
   "execution_count": 17,
   "id": "87144e35-aba1-4c88-8fd0-ce808b889e82",
   "metadata": {},
   "outputs": [
    {
     "name": "stdout",
     "output_type": "stream",
     "text": [
      "86/86 [==============================] - 3s 37ms/step\n"
     ]
    }
   ],
   "source": [
    "predictions = model.predict(test_final)"
   ]
  },
  {
   "cell_type": "code",
   "execution_count": 18,
   "id": "a6caf50e-be4d-4044-90dd-04f7a7b32d2e",
   "metadata": {},
   "outputs": [],
   "source": [
    "final_predictions = [np.argmax(pred) for pred in predictions]"
   ]
  },
  {
   "cell_type": "code",
   "execution_count": 19,
   "id": "876141fd-1145-4dfe-a20e-706f8c70bede",
   "metadata": {},
   "outputs": [
    {
     "data": {
      "text/html": [
       "<div>\n",
       "<style scoped>\n",
       "    .dataframe tbody tr th:only-of-type {\n",
       "        vertical-align: middle;\n",
       "    }\n",
       "\n",
       "    .dataframe tbody tr th {\n",
       "        vertical-align: top;\n",
       "    }\n",
       "\n",
       "    .dataframe thead th {\n",
       "        text-align: right;\n",
       "    }\n",
       "</style>\n",
       "<table border=\"1\" class=\"dataframe\">\n",
       "  <thead>\n",
       "    <tr style=\"text-align: right;\">\n",
       "      <th></th>\n",
       "      <th>SECTION</th>\n",
       "    </tr>\n",
       "  </thead>\n",
       "  <tbody>\n",
       "    <tr>\n",
       "      <th>0</th>\n",
       "      <td>1</td>\n",
       "    </tr>\n",
       "    <tr>\n",
       "      <th>1</th>\n",
       "      <td>2</td>\n",
       "    </tr>\n",
       "    <tr>\n",
       "      <th>2</th>\n",
       "      <td>1</td>\n",
       "    </tr>\n",
       "    <tr>\n",
       "      <th>3</th>\n",
       "      <td>0</td>\n",
       "    </tr>\n",
       "    <tr>\n",
       "      <th>4</th>\n",
       "      <td>1</td>\n",
       "    </tr>\n",
       "    <tr>\n",
       "      <th>...</th>\n",
       "      <td>...</td>\n",
       "    </tr>\n",
       "    <tr>\n",
       "      <th>2743</th>\n",
       "      <td>1</td>\n",
       "    </tr>\n",
       "    <tr>\n",
       "      <th>2744</th>\n",
       "      <td>1</td>\n",
       "    </tr>\n",
       "    <tr>\n",
       "      <th>2745</th>\n",
       "      <td>1</td>\n",
       "    </tr>\n",
       "    <tr>\n",
       "      <th>2746</th>\n",
       "      <td>0</td>\n",
       "    </tr>\n",
       "    <tr>\n",
       "      <th>2747</th>\n",
       "      <td>1</td>\n",
       "    </tr>\n",
       "  </tbody>\n",
       "</table>\n",
       "<p>2748 rows × 1 columns</p>\n",
       "</div>"
      ],
      "text/plain": [
       "      SECTION\n",
       "0           1\n",
       "1           2\n",
       "2           1\n",
       "3           0\n",
       "4           1\n",
       "...       ...\n",
       "2743        1\n",
       "2744        1\n",
       "2745        1\n",
       "2746        0\n",
       "2747        1\n",
       "\n",
       "[2748 rows x 1 columns]"
      ]
     },
     "execution_count": 19,
     "metadata": {},
     "output_type": "execute_result"
    }
   ],
   "source": [
    "submission = pd.concat([pd.Series(final_predictions, name='SECTION')], axis=1)\n",
    "submission"
   ]
  },
  {
   "cell_type": "code",
   "execution_count": 20,
   "id": "76af445e-a0b4-490c-84c1-9fc3b7eb3a3e",
   "metadata": {},
   "outputs": [],
   "source": [
    "submission.to_csv('submission_CNN_model.csv', index=False)"
   ]
  },
  {
   "cell_type": "code",
   "execution_count": null,
   "id": "790d773f-de1a-483e-8c7b-8257f5c476b2",
   "metadata": {},
   "outputs": [],
   "source": []
  }
 ],
 "metadata": {
  "kernelspec": {
   "display_name": "Python 3 (ipykernel)",
   "language": "python",
   "name": "python3"
  },
  "language_info": {
   "codemirror_mode": {
    "name": "ipython",
    "version": 3
   },
   "file_extension": ".py",
   "mimetype": "text/x-python",
   "name": "python",
   "nbconvert_exporter": "python",
   "pygments_lexer": "ipython3",
   "version": "3.7.15"
  }
 },
 "nbformat": 4,
 "nbformat_minor": 5
}
