{
 "cells": [
  {
   "cell_type": "code",
   "execution_count": 1,
   "id": "5e87eded",
   "metadata": {},
   "outputs": [
    {
     "name": "stderr",
     "output_type": "stream",
     "text": [
      "C:\\Users\\Anes3\\Anaconda3\\lib\\site-packages\\dask\\dataframe\\utils.py:14: FutureWarning: pandas.util.testing is deprecated. Use the functions in the public API at pandas.testing instead.\n",
      "  import pandas.util.testing as tm\n"
     ]
    }
   ],
   "source": [
    "import numpy as np\n",
    "import pandas as pd\n",
    "from sklearn.feature_extraction.text import TfidfVectorizer\n",
    "from sklearn.decomposition import TruncatedSVD\n",
    "from sklearn.model_selection import train_test_split, KFold, cross_val_score\n",
    "from sklearn.naive_bayes import MultinomialNB\n",
    "\n",
    "from pycaret.classification import setup, compare_models, evaluate_model, plot_model\n",
    "import optuna"
   ]
  },
  {
   "cell_type": "code",
   "execution_count": 2,
   "id": "a4ff99ed",
   "metadata": {},
   "outputs": [
    {
     "data": {
      "text/plain": [
       "(7628, 1)"
      ]
     },
     "execution_count": 2,
     "metadata": {},
     "output_type": "execute_result"
    }
   ],
   "source": [
    "train = pd.read_excel('Data_Train.xlsx')\n",
    "test = pd.read_excel('Data_Test.xlsx')\n",
    "target = train.SECTION\n",
    "train = train.drop('SECTION', axis=1).copy()\n",
    "train.shape"
   ]
  },
  {
   "cell_type": "code",
   "execution_count": 3,
   "id": "b735e539",
   "metadata": {},
   "outputs": [
    {
     "data": {
      "text/html": [
       "<div>\n",
       "<style scoped>\n",
       "    .dataframe tbody tr th:only-of-type {\n",
       "        vertical-align: middle;\n",
       "    }\n",
       "\n",
       "    .dataframe tbody tr th {\n",
       "        vertical-align: top;\n",
       "    }\n",
       "\n",
       "    .dataframe thead th {\n",
       "        text-align: right;\n",
       "    }\n",
       "</style>\n",
       "<table border=\"1\" class=\"dataframe\">\n",
       "  <thead>\n",
       "    <tr style=\"text-align: right;\">\n",
       "      <th></th>\n",
       "      <th>STORY</th>\n",
       "    </tr>\n",
       "  </thead>\n",
       "  <tbody>\n",
       "    <tr>\n",
       "      <th>0</th>\n",
       "      <td>But the most painful was the huge reversal in ...</td>\n",
       "    </tr>\n",
       "    <tr>\n",
       "      <th>1</th>\n",
       "      <td>How formidable is the opposition alliance amon...</td>\n",
       "    </tr>\n",
       "    <tr>\n",
       "      <th>2</th>\n",
       "      <td>Most Asian currencies were trading lower today...</td>\n",
       "    </tr>\n",
       "    <tr>\n",
       "      <th>3</th>\n",
       "      <td>If you want to answer any question, click on ‘...</td>\n",
       "    </tr>\n",
       "    <tr>\n",
       "      <th>4</th>\n",
       "      <td>In global markets, gold prices edged up today ...</td>\n",
       "    </tr>\n",
       "  </tbody>\n",
       "</table>\n",
       "</div>"
      ],
      "text/plain": [
       "                                               STORY\n",
       "0  But the most painful was the huge reversal in ...\n",
       "1  How formidable is the opposition alliance amon...\n",
       "2  Most Asian currencies were trading lower today...\n",
       "3  If you want to answer any question, click on ‘...\n",
       "4  In global markets, gold prices edged up today ..."
      ]
     },
     "execution_count": 3,
     "metadata": {},
     "output_type": "execute_result"
    }
   ],
   "source": [
    "train.head()"
   ]
  },
  {
   "cell_type": "code",
   "execution_count": 4,
   "id": "1898e759",
   "metadata": {},
   "outputs": [
    {
     "data": {
      "text/plain": [
       "1.0    2772\n",
       "2.0    1924\n",
       "0.0    1686\n",
       "3.0    1246\n",
       "Name: SECTION, dtype: int64"
      ]
     },
     "execution_count": 4,
     "metadata": {},
     "output_type": "execute_result"
    }
   ],
   "source": [
    "target.value_counts()"
   ]
  },
  {
   "cell_type": "markdown",
   "id": "80edddda",
   "metadata": {},
   "source": [
    "# Feature Transformation"
   ]
  },
  {
   "cell_type": "code",
   "execution_count": 5,
   "id": "ae0745c5",
   "metadata": {},
   "outputs": [],
   "source": [
    "vectorizer = TfidfVectorizer()\n",
    "X_train = vectorizer.fit_transform(train['STORY'])\n",
    "# X_train = pd.DataFrame(X_train.toarray())"
   ]
  },
  {
   "cell_type": "code",
   "execution_count": 6,
   "id": "5adfd2f3",
   "metadata": {},
   "outputs": [
    {
     "data": {
      "text/plain": [
       "(7628, 32810)"
      ]
     },
     "execution_count": 6,
     "metadata": {},
     "output_type": "execute_result"
    }
   ],
   "source": [
    "X_train.shape"
   ]
  },
  {
   "cell_type": "markdown",
   "id": "58688538",
   "metadata": {},
   "source": [
    "# SVD"
   ]
  },
  {
   "cell_type": "code",
   "execution_count": 7,
   "id": "15b0f23e",
   "metadata": {},
   "outputs": [
    {
     "ename": "MemoryError",
     "evalue": "Unable to allocate 8.02 GiB for an array with shape (32810, 32810) and data type float64",
     "output_type": "error",
     "traceback": [
      "\u001b[1;31m---------------------------------------------------------------------------\u001b[0m",
      "\u001b[1;31mMemoryError\u001b[0m                               Traceback (most recent call last)",
      "\u001b[1;32m~\\AppData\\Local\\Temp\\ipykernel_12940\\3889308534.py\u001b[0m in \u001b[0;36m<module>\u001b[1;34m\u001b[0m\n\u001b[0;32m      1\u001b[0m \u001b[0msvd\u001b[0m \u001b[1;33m=\u001b[0m \u001b[0mTruncatedSVD\u001b[0m\u001b[1;33m(\u001b[0m\u001b[0mn_components\u001b[0m\u001b[1;33m=\u001b[0m\u001b[0mX_train\u001b[0m\u001b[1;33m.\u001b[0m\u001b[0mshape\u001b[0m\u001b[1;33m[\u001b[0m\u001b[1;36m1\u001b[0m\u001b[1;33m]\u001b[0m\u001b[1;33m-\u001b[0m\u001b[1;36m1\u001b[0m\u001b[1;33m)\u001b[0m\u001b[1;33m\u001b[0m\u001b[1;33m\u001b[0m\u001b[0m\n\u001b[1;32m----> 2\u001b[1;33m \u001b[0msvd\u001b[0m\u001b[1;33m.\u001b[0m\u001b[0mfit_transform\u001b[0m\u001b[1;33m(\u001b[0m\u001b[0mX_train\u001b[0m\u001b[1;33m)\u001b[0m\u001b[1;33m\u001b[0m\u001b[1;33m\u001b[0m\u001b[0m\n\u001b[0m",
      "\u001b[1;32m~\\AppData\\Roaming\\Python\\Python37\\site-packages\\sklearn\\decomposition\\_truncated_svd.py\u001b[0m in \u001b[0;36mfit_transform\u001b[1;34m(self, X, y)\u001b[0m\n\u001b[0;32m    181\u001b[0m             U, Sigma, VT = randomized_svd(X, self.n_components,\n\u001b[0;32m    182\u001b[0m                                           \u001b[0mn_iter\u001b[0m\u001b[1;33m=\u001b[0m\u001b[0mself\u001b[0m\u001b[1;33m.\u001b[0m\u001b[0mn_iter\u001b[0m\u001b[1;33m,\u001b[0m\u001b[1;33m\u001b[0m\u001b[1;33m\u001b[0m\u001b[0m\n\u001b[1;32m--> 183\u001b[1;33m                                           random_state=random_state)\n\u001b[0m\u001b[0;32m    184\u001b[0m         \u001b[1;32melse\u001b[0m\u001b[1;33m:\u001b[0m\u001b[1;33m\u001b[0m\u001b[1;33m\u001b[0m\u001b[0m\n\u001b[0;32m    185\u001b[0m             \u001b[1;32mraise\u001b[0m \u001b[0mValueError\u001b[0m\u001b[1;33m(\u001b[0m\u001b[1;34m\"unknown algorithm %r\"\u001b[0m \u001b[1;33m%\u001b[0m \u001b[0mself\u001b[0m\u001b[1;33m.\u001b[0m\u001b[0malgorithm\u001b[0m\u001b[1;33m)\u001b[0m\u001b[1;33m\u001b[0m\u001b[1;33m\u001b[0m\u001b[0m\n",
      "\u001b[1;32m~\\AppData\\Roaming\\Python\\Python37\\site-packages\\sklearn\\utils\\validation.py\u001b[0m in \u001b[0;36minner_f\u001b[1;34m(*args, **kwargs)\u001b[0m\n\u001b[0;32m     70\u001b[0m                           FutureWarning)\n\u001b[0;32m     71\u001b[0m         \u001b[0mkwargs\u001b[0m\u001b[1;33m.\u001b[0m\u001b[0mupdate\u001b[0m\u001b[1;33m(\u001b[0m\u001b[1;33m{\u001b[0m\u001b[0mk\u001b[0m\u001b[1;33m:\u001b[0m \u001b[0marg\u001b[0m \u001b[1;32mfor\u001b[0m \u001b[0mk\u001b[0m\u001b[1;33m,\u001b[0m \u001b[0marg\u001b[0m \u001b[1;32min\u001b[0m \u001b[0mzip\u001b[0m\u001b[1;33m(\u001b[0m\u001b[0msig\u001b[0m\u001b[1;33m.\u001b[0m\u001b[0mparameters\u001b[0m\u001b[1;33m,\u001b[0m \u001b[0margs\u001b[0m\u001b[1;33m)\u001b[0m\u001b[1;33m}\u001b[0m\u001b[1;33m)\u001b[0m\u001b[1;33m\u001b[0m\u001b[1;33m\u001b[0m\u001b[0m\n\u001b[1;32m---> 72\u001b[1;33m         \u001b[1;32mreturn\u001b[0m \u001b[0mf\u001b[0m\u001b[1;33m(\u001b[0m\u001b[1;33m**\u001b[0m\u001b[0mkwargs\u001b[0m\u001b[1;33m)\u001b[0m\u001b[1;33m\u001b[0m\u001b[1;33m\u001b[0m\u001b[0m\n\u001b[0m\u001b[0;32m     73\u001b[0m     \u001b[1;32mreturn\u001b[0m \u001b[0minner_f\u001b[0m\u001b[1;33m\u001b[0m\u001b[1;33m\u001b[0m\u001b[0m\n\u001b[0;32m     74\u001b[0m \u001b[1;33m\u001b[0m\u001b[0m\n",
      "\u001b[1;32m~\\AppData\\Roaming\\Python\\Python37\\site-packages\\sklearn\\utils\\extmath.py\u001b[0m in \u001b[0;36mrandomized_svd\u001b[1;34m(M, n_components, n_oversamples, n_iter, power_iteration_normalizer, transpose, flip_sign, random_state)\u001b[0m\n\u001b[0;32m    350\u001b[0m         \u001b[0mM\u001b[0m\u001b[1;33m,\u001b[0m \u001b[0msize\u001b[0m\u001b[1;33m=\u001b[0m\u001b[0mn_random\u001b[0m\u001b[1;33m,\u001b[0m \u001b[0mn_iter\u001b[0m\u001b[1;33m=\u001b[0m\u001b[0mn_iter\u001b[0m\u001b[1;33m,\u001b[0m\u001b[1;33m\u001b[0m\u001b[1;33m\u001b[0m\u001b[0m\n\u001b[0;32m    351\u001b[0m         \u001b[0mpower_iteration_normalizer\u001b[0m\u001b[1;33m=\u001b[0m\u001b[0mpower_iteration_normalizer\u001b[0m\u001b[1;33m,\u001b[0m\u001b[1;33m\u001b[0m\u001b[1;33m\u001b[0m\u001b[0m\n\u001b[1;32m--> 352\u001b[1;33m         random_state=random_state)\n\u001b[0m\u001b[0;32m    353\u001b[0m \u001b[1;33m\u001b[0m\u001b[0m\n\u001b[0;32m    354\u001b[0m     \u001b[1;31m# project M to the (k + p) dimensional space using the basis vectors\u001b[0m\u001b[1;33m\u001b[0m\u001b[1;33m\u001b[0m\u001b[1;33m\u001b[0m\u001b[0m\n",
      "\u001b[1;32m~\\AppData\\Roaming\\Python\\Python37\\site-packages\\sklearn\\utils\\validation.py\u001b[0m in \u001b[0;36minner_f\u001b[1;34m(*args, **kwargs)\u001b[0m\n\u001b[0;32m     70\u001b[0m                           FutureWarning)\n\u001b[0;32m     71\u001b[0m         \u001b[0mkwargs\u001b[0m\u001b[1;33m.\u001b[0m\u001b[0mupdate\u001b[0m\u001b[1;33m(\u001b[0m\u001b[1;33m{\u001b[0m\u001b[0mk\u001b[0m\u001b[1;33m:\u001b[0m \u001b[0marg\u001b[0m \u001b[1;32mfor\u001b[0m \u001b[0mk\u001b[0m\u001b[1;33m,\u001b[0m \u001b[0marg\u001b[0m \u001b[1;32min\u001b[0m \u001b[0mzip\u001b[0m\u001b[1;33m(\u001b[0m\u001b[0msig\u001b[0m\u001b[1;33m.\u001b[0m\u001b[0mparameters\u001b[0m\u001b[1;33m,\u001b[0m \u001b[0margs\u001b[0m\u001b[1;33m)\u001b[0m\u001b[1;33m}\u001b[0m\u001b[1;33m)\u001b[0m\u001b[1;33m\u001b[0m\u001b[1;33m\u001b[0m\u001b[0m\n\u001b[1;32m---> 72\u001b[1;33m         \u001b[1;32mreturn\u001b[0m \u001b[0mf\u001b[0m\u001b[1;33m(\u001b[0m\u001b[1;33m**\u001b[0m\u001b[0mkwargs\u001b[0m\u001b[1;33m)\u001b[0m\u001b[1;33m\u001b[0m\u001b[1;33m\u001b[0m\u001b[0m\n\u001b[0m\u001b[0;32m     73\u001b[0m     \u001b[1;32mreturn\u001b[0m \u001b[0minner_f\u001b[0m\u001b[1;33m\u001b[0m\u001b[1;33m\u001b[0m\u001b[0m\n\u001b[0;32m     74\u001b[0m \u001b[1;33m\u001b[0m\u001b[0m\n",
      "\u001b[1;32m~\\AppData\\Roaming\\Python\\Python37\\site-packages\\sklearn\\utils\\extmath.py\u001b[0m in \u001b[0;36mrandomized_range_finder\u001b[1;34m(A, size, n_iter, power_iteration_normalizer, random_state)\u001b[0m\n\u001b[0;32m    232\u001b[0m             \u001b[0mQ\u001b[0m \u001b[1;33m=\u001b[0m \u001b[0msafe_sparse_dot\u001b[0m\u001b[1;33m(\u001b[0m\u001b[0mA\u001b[0m\u001b[1;33m.\u001b[0m\u001b[0mT\u001b[0m\u001b[1;33m,\u001b[0m \u001b[0mQ\u001b[0m\u001b[1;33m)\u001b[0m\u001b[1;33m\u001b[0m\u001b[1;33m\u001b[0m\u001b[0m\n\u001b[0;32m    233\u001b[0m         \u001b[1;32melif\u001b[0m \u001b[0mpower_iteration_normalizer\u001b[0m \u001b[1;33m==\u001b[0m \u001b[1;34m'LU'\u001b[0m\u001b[1;33m:\u001b[0m\u001b[1;33m\u001b[0m\u001b[1;33m\u001b[0m\u001b[0m\n\u001b[1;32m--> 234\u001b[1;33m             \u001b[0mQ\u001b[0m\u001b[1;33m,\u001b[0m \u001b[0m_\u001b[0m \u001b[1;33m=\u001b[0m \u001b[0mlinalg\u001b[0m\u001b[1;33m.\u001b[0m\u001b[0mlu\u001b[0m\u001b[1;33m(\u001b[0m\u001b[0msafe_sparse_dot\u001b[0m\u001b[1;33m(\u001b[0m\u001b[0mA\u001b[0m\u001b[1;33m,\u001b[0m \u001b[0mQ\u001b[0m\u001b[1;33m)\u001b[0m\u001b[1;33m,\u001b[0m \u001b[0mpermute_l\u001b[0m\u001b[1;33m=\u001b[0m\u001b[1;32mTrue\u001b[0m\u001b[1;33m)\u001b[0m\u001b[1;33m\u001b[0m\u001b[1;33m\u001b[0m\u001b[0m\n\u001b[0m\u001b[0;32m    235\u001b[0m             \u001b[0mQ\u001b[0m\u001b[1;33m,\u001b[0m \u001b[0m_\u001b[0m \u001b[1;33m=\u001b[0m \u001b[0mlinalg\u001b[0m\u001b[1;33m.\u001b[0m\u001b[0mlu\u001b[0m\u001b[1;33m(\u001b[0m\u001b[0msafe_sparse_dot\u001b[0m\u001b[1;33m(\u001b[0m\u001b[0mA\u001b[0m\u001b[1;33m.\u001b[0m\u001b[0mT\u001b[0m\u001b[1;33m,\u001b[0m \u001b[0mQ\u001b[0m\u001b[1;33m)\u001b[0m\u001b[1;33m,\u001b[0m \u001b[0mpermute_l\u001b[0m\u001b[1;33m=\u001b[0m\u001b[1;32mTrue\u001b[0m\u001b[1;33m)\u001b[0m\u001b[1;33m\u001b[0m\u001b[1;33m\u001b[0m\u001b[0m\n\u001b[0;32m    236\u001b[0m         \u001b[1;32melif\u001b[0m \u001b[0mpower_iteration_normalizer\u001b[0m \u001b[1;33m==\u001b[0m \u001b[1;34m'QR'\u001b[0m\u001b[1;33m:\u001b[0m\u001b[1;33m\u001b[0m\u001b[1;33m\u001b[0m\u001b[0m\n",
      "\u001b[1;32m~\\Anaconda3\\lib\\site-packages\\scipy\\linalg\\decomp_lu.py\u001b[0m in \u001b[0;36mlu\u001b[1;34m(a, permute_l, overwrite_a, check_finite)\u001b[0m\n\u001b[0;32m    214\u001b[0m     \u001b[0moverwrite_a\u001b[0m \u001b[1;33m=\u001b[0m \u001b[0moverwrite_a\u001b[0m \u001b[1;32mor\u001b[0m \u001b[1;33m(\u001b[0m\u001b[0m_datacopied\u001b[0m\u001b[1;33m(\u001b[0m\u001b[0ma1\u001b[0m\u001b[1;33m,\u001b[0m \u001b[0ma\u001b[0m\u001b[1;33m)\u001b[0m\u001b[1;33m)\u001b[0m\u001b[1;33m\u001b[0m\u001b[1;33m\u001b[0m\u001b[0m\n\u001b[0;32m    215\u001b[0m     \u001b[0mflu\u001b[0m\u001b[1;33m,\u001b[0m \u001b[1;33m=\u001b[0m \u001b[0mget_flinalg_funcs\u001b[0m\u001b[1;33m(\u001b[0m\u001b[1;33m(\u001b[0m\u001b[1;34m'lu'\u001b[0m\u001b[1;33m,\u001b[0m\u001b[1;33m)\u001b[0m\u001b[1;33m,\u001b[0m \u001b[1;33m(\u001b[0m\u001b[0ma1\u001b[0m\u001b[1;33m,\u001b[0m\u001b[1;33m)\u001b[0m\u001b[1;33m)\u001b[0m\u001b[1;33m\u001b[0m\u001b[1;33m\u001b[0m\u001b[0m\n\u001b[1;32m--> 216\u001b[1;33m     \u001b[0mp\u001b[0m\u001b[1;33m,\u001b[0m \u001b[0ml\u001b[0m\u001b[1;33m,\u001b[0m \u001b[0mu\u001b[0m\u001b[1;33m,\u001b[0m \u001b[0minfo\u001b[0m \u001b[1;33m=\u001b[0m \u001b[0mflu\u001b[0m\u001b[1;33m(\u001b[0m\u001b[0ma1\u001b[0m\u001b[1;33m,\u001b[0m \u001b[0mpermute_l\u001b[0m\u001b[1;33m=\u001b[0m\u001b[0mpermute_l\u001b[0m\u001b[1;33m,\u001b[0m \u001b[0moverwrite_a\u001b[0m\u001b[1;33m=\u001b[0m\u001b[0moverwrite_a\u001b[0m\u001b[1;33m)\u001b[0m\u001b[1;33m\u001b[0m\u001b[1;33m\u001b[0m\u001b[0m\n\u001b[0m\u001b[0;32m    217\u001b[0m     \u001b[1;32mif\u001b[0m \u001b[0minfo\u001b[0m \u001b[1;33m<\u001b[0m \u001b[1;36m0\u001b[0m\u001b[1;33m:\u001b[0m\u001b[1;33m\u001b[0m\u001b[1;33m\u001b[0m\u001b[0m\n\u001b[0;32m    218\u001b[0m         raise ValueError('illegal value in %dth argument of '\n",
      "\u001b[1;31mMemoryError\u001b[0m: Unable to allocate 8.02 GiB for an array with shape (32810, 32810) and data type float64"
     ]
    }
   ],
   "source": [
    "svd = TruncatedSVD(n_components=X_train.shape[1]-1)\n",
    "svd.fit_transform(X_train)"
   ]
  },
  {
   "cell_type": "code",
   "execution_count": null,
   "id": "ccf7710e",
   "metadata": {},
   "outputs": [],
   "source": [
    "svd.explai"
   ]
  },
  {
   "cell_type": "code",
   "execution_count": 8,
   "id": "35eeec9d",
   "metadata": {},
   "outputs": [
    {
     "data": {
      "text/plain": [
       "(7628, 100)"
      ]
     },
     "execution_count": 8,
     "metadata": {},
     "output_type": "execute_result"
    }
   ],
   "source": [
    "X_train.shape"
   ]
  },
  {
   "cell_type": "markdown",
   "id": "17f87faf",
   "metadata": {},
   "source": [
    "# Base Model"
   ]
  },
  {
   "cell_type": "code",
   "execution_count": 9,
   "id": "9c705563",
   "metadata": {},
   "outputs": [
    {
     "name": "stdout",
     "output_type": "stream",
     "text": [
      "[nan nan nan nan nan nan nan nan nan nan]\n",
      "Accuracy: nan\n"
     ]
    }
   ],
   "source": [
    "model = MultinomialNB()\n",
    "\n",
    "results=[]\n",
    "\n",
    "kf = KFold(n_splits=10)\n",
    "r = cross_val_score(model, X_train, target, scoring='accuracy', cv=kf)\n",
    "print(r)\n",
    "results.append(r)\n",
    "print(f'Accuracy: {np.mean(results)}')"
   ]
  },
  {
   "cell_type": "code",
   "execution_count": 11,
   "id": "fd7e5752",
   "metadata": {},
   "outputs": [
    {
     "data": {
      "text/plain": [
       "(7628, 100)"
      ]
     },
     "execution_count": 11,
     "metadata": {},
     "output_type": "execute_result"
    }
   ],
   "source": [
    "X_train.shape"
   ]
  },
  {
   "cell_type": "code",
   "execution_count": 12,
   "id": "5a7c0ee4",
   "metadata": {},
   "outputs": [
    {
     "data": {
      "text/plain": [
       "(7628,)"
      ]
     },
     "execution_count": 12,
     "metadata": {},
     "output_type": "execute_result"
    }
   ],
   "source": [
    "target.shape"
   ]
  },
  {
   "cell_type": "code",
   "execution_count": 14,
   "id": "760ce110",
   "metadata": {},
   "outputs": [],
   "source": [
    "X_train = pd.DataFrame(X_train)"
   ]
  },
  {
   "cell_type": "code",
   "execution_count": 15,
   "id": "e22fda7b",
   "metadata": {},
   "outputs": [
    {
     "data": {
      "text/html": [
       "<style type=\"text/css\">\n",
       "#T_8cd4c_row44_col1 {\n",
       "  background-color: lightgreen;\n",
       "}\n",
       "</style>\n",
       "<table id=\"T_8cd4c_\">\n",
       "  <thead>\n",
       "    <tr>\n",
       "      <th class=\"blank level0\" >&nbsp;</th>\n",
       "      <th class=\"col_heading level0 col0\" >Description</th>\n",
       "      <th class=\"col_heading level0 col1\" >Value</th>\n",
       "    </tr>\n",
       "  </thead>\n",
       "  <tbody>\n",
       "    <tr>\n",
       "      <th id=\"T_8cd4c_level0_row0\" class=\"row_heading level0 row0\" >0</th>\n",
       "      <td id=\"T_8cd4c_row0_col0\" class=\"data row0 col0\" >session_id</td>\n",
       "      <td id=\"T_8cd4c_row0_col1\" class=\"data row0 col1\" >2429</td>\n",
       "    </tr>\n",
       "    <tr>\n",
       "      <th id=\"T_8cd4c_level0_row1\" class=\"row_heading level0 row1\" >1</th>\n",
       "      <td id=\"T_8cd4c_row1_col0\" class=\"data row1 col0\" >Target</td>\n",
       "      <td id=\"T_8cd4c_row1_col1\" class=\"data row1 col1\" >SECTION</td>\n",
       "    </tr>\n",
       "    <tr>\n",
       "      <th id=\"T_8cd4c_level0_row2\" class=\"row_heading level0 row2\" >2</th>\n",
       "      <td id=\"T_8cd4c_row2_col0\" class=\"data row2 col0\" >Target Type</td>\n",
       "      <td id=\"T_8cd4c_row2_col1\" class=\"data row2 col1\" >Multiclass</td>\n",
       "    </tr>\n",
       "    <tr>\n",
       "      <th id=\"T_8cd4c_level0_row3\" class=\"row_heading level0 row3\" >3</th>\n",
       "      <td id=\"T_8cd4c_row3_col0\" class=\"data row3 col0\" >Label Encoded</td>\n",
       "      <td id=\"T_8cd4c_row3_col1\" class=\"data row3 col1\" >None</td>\n",
       "    </tr>\n",
       "    <tr>\n",
       "      <th id=\"T_8cd4c_level0_row4\" class=\"row_heading level0 row4\" >4</th>\n",
       "      <td id=\"T_8cd4c_row4_col0\" class=\"data row4 col0\" >Original Data</td>\n",
       "      <td id=\"T_8cd4c_row4_col1\" class=\"data row4 col1\" >(7628, 101)</td>\n",
       "    </tr>\n",
       "    <tr>\n",
       "      <th id=\"T_8cd4c_level0_row5\" class=\"row_heading level0 row5\" >5</th>\n",
       "      <td id=\"T_8cd4c_row5_col0\" class=\"data row5 col0\" >Missing Values</td>\n",
       "      <td id=\"T_8cd4c_row5_col1\" class=\"data row5 col1\" >False</td>\n",
       "    </tr>\n",
       "    <tr>\n",
       "      <th id=\"T_8cd4c_level0_row6\" class=\"row_heading level0 row6\" >6</th>\n",
       "      <td id=\"T_8cd4c_row6_col0\" class=\"data row6 col0\" >Numeric Features</td>\n",
       "      <td id=\"T_8cd4c_row6_col1\" class=\"data row6 col1\" >100</td>\n",
       "    </tr>\n",
       "    <tr>\n",
       "      <th id=\"T_8cd4c_level0_row7\" class=\"row_heading level0 row7\" >7</th>\n",
       "      <td id=\"T_8cd4c_row7_col0\" class=\"data row7 col0\" >Categorical Features</td>\n",
       "      <td id=\"T_8cd4c_row7_col1\" class=\"data row7 col1\" >0</td>\n",
       "    </tr>\n",
       "    <tr>\n",
       "      <th id=\"T_8cd4c_level0_row8\" class=\"row_heading level0 row8\" >8</th>\n",
       "      <td id=\"T_8cd4c_row8_col0\" class=\"data row8 col0\" >Ordinal Features</td>\n",
       "      <td id=\"T_8cd4c_row8_col1\" class=\"data row8 col1\" >False</td>\n",
       "    </tr>\n",
       "    <tr>\n",
       "      <th id=\"T_8cd4c_level0_row9\" class=\"row_heading level0 row9\" >9</th>\n",
       "      <td id=\"T_8cd4c_row9_col0\" class=\"data row9 col0\" >High Cardinality Features</td>\n",
       "      <td id=\"T_8cd4c_row9_col1\" class=\"data row9 col1\" >False</td>\n",
       "    </tr>\n",
       "    <tr>\n",
       "      <th id=\"T_8cd4c_level0_row10\" class=\"row_heading level0 row10\" >10</th>\n",
       "      <td id=\"T_8cd4c_row10_col0\" class=\"data row10 col0\" >High Cardinality Method</td>\n",
       "      <td id=\"T_8cd4c_row10_col1\" class=\"data row10 col1\" >None</td>\n",
       "    </tr>\n",
       "    <tr>\n",
       "      <th id=\"T_8cd4c_level0_row11\" class=\"row_heading level0 row11\" >11</th>\n",
       "      <td id=\"T_8cd4c_row11_col0\" class=\"data row11 col0\" >Transformed Train Set</td>\n",
       "      <td id=\"T_8cd4c_row11_col1\" class=\"data row11 col1\" >(5339, 100)</td>\n",
       "    </tr>\n",
       "    <tr>\n",
       "      <th id=\"T_8cd4c_level0_row12\" class=\"row_heading level0 row12\" >12</th>\n",
       "      <td id=\"T_8cd4c_row12_col0\" class=\"data row12 col0\" >Transformed Test Set</td>\n",
       "      <td id=\"T_8cd4c_row12_col1\" class=\"data row12 col1\" >(2289, 100)</td>\n",
       "    </tr>\n",
       "    <tr>\n",
       "      <th id=\"T_8cd4c_level0_row13\" class=\"row_heading level0 row13\" >13</th>\n",
       "      <td id=\"T_8cd4c_row13_col0\" class=\"data row13 col0\" >Shuffle Train-Test</td>\n",
       "      <td id=\"T_8cd4c_row13_col1\" class=\"data row13 col1\" >True</td>\n",
       "    </tr>\n",
       "    <tr>\n",
       "      <th id=\"T_8cd4c_level0_row14\" class=\"row_heading level0 row14\" >14</th>\n",
       "      <td id=\"T_8cd4c_row14_col0\" class=\"data row14 col0\" >Stratify Train-Test</td>\n",
       "      <td id=\"T_8cd4c_row14_col1\" class=\"data row14 col1\" >False</td>\n",
       "    </tr>\n",
       "    <tr>\n",
       "      <th id=\"T_8cd4c_level0_row15\" class=\"row_heading level0 row15\" >15</th>\n",
       "      <td id=\"T_8cd4c_row15_col0\" class=\"data row15 col0\" >Fold Generator</td>\n",
       "      <td id=\"T_8cd4c_row15_col1\" class=\"data row15 col1\" >StratifiedKFold</td>\n",
       "    </tr>\n",
       "    <tr>\n",
       "      <th id=\"T_8cd4c_level0_row16\" class=\"row_heading level0 row16\" >16</th>\n",
       "      <td id=\"T_8cd4c_row16_col0\" class=\"data row16 col0\" >Fold Number</td>\n",
       "      <td id=\"T_8cd4c_row16_col1\" class=\"data row16 col1\" >10</td>\n",
       "    </tr>\n",
       "    <tr>\n",
       "      <th id=\"T_8cd4c_level0_row17\" class=\"row_heading level0 row17\" >17</th>\n",
       "      <td id=\"T_8cd4c_row17_col0\" class=\"data row17 col0\" >CPU Jobs</td>\n",
       "      <td id=\"T_8cd4c_row17_col1\" class=\"data row17 col1\" >-1</td>\n",
       "    </tr>\n",
       "    <tr>\n",
       "      <th id=\"T_8cd4c_level0_row18\" class=\"row_heading level0 row18\" >18</th>\n",
       "      <td id=\"T_8cd4c_row18_col0\" class=\"data row18 col0\" >Use GPU</td>\n",
       "      <td id=\"T_8cd4c_row18_col1\" class=\"data row18 col1\" >False</td>\n",
       "    </tr>\n",
       "    <tr>\n",
       "      <th id=\"T_8cd4c_level0_row19\" class=\"row_heading level0 row19\" >19</th>\n",
       "      <td id=\"T_8cd4c_row19_col0\" class=\"data row19 col0\" >Log Experiment</td>\n",
       "      <td id=\"T_8cd4c_row19_col1\" class=\"data row19 col1\" >False</td>\n",
       "    </tr>\n",
       "    <tr>\n",
       "      <th id=\"T_8cd4c_level0_row20\" class=\"row_heading level0 row20\" >20</th>\n",
       "      <td id=\"T_8cd4c_row20_col0\" class=\"data row20 col0\" >Experiment Name</td>\n",
       "      <td id=\"T_8cd4c_row20_col1\" class=\"data row20 col1\" >clf-default-name</td>\n",
       "    </tr>\n",
       "    <tr>\n",
       "      <th id=\"T_8cd4c_level0_row21\" class=\"row_heading level0 row21\" >21</th>\n",
       "      <td id=\"T_8cd4c_row21_col0\" class=\"data row21 col0\" >USI</td>\n",
       "      <td id=\"T_8cd4c_row21_col1\" class=\"data row21 col1\" >870a</td>\n",
       "    </tr>\n",
       "    <tr>\n",
       "      <th id=\"T_8cd4c_level0_row22\" class=\"row_heading level0 row22\" >22</th>\n",
       "      <td id=\"T_8cd4c_row22_col0\" class=\"data row22 col0\" >Imputation Type</td>\n",
       "      <td id=\"T_8cd4c_row22_col1\" class=\"data row22 col1\" >simple</td>\n",
       "    </tr>\n",
       "    <tr>\n",
       "      <th id=\"T_8cd4c_level0_row23\" class=\"row_heading level0 row23\" >23</th>\n",
       "      <td id=\"T_8cd4c_row23_col0\" class=\"data row23 col0\" >Iterative Imputation Iteration</td>\n",
       "      <td id=\"T_8cd4c_row23_col1\" class=\"data row23 col1\" >None</td>\n",
       "    </tr>\n",
       "    <tr>\n",
       "      <th id=\"T_8cd4c_level0_row24\" class=\"row_heading level0 row24\" >24</th>\n",
       "      <td id=\"T_8cd4c_row24_col0\" class=\"data row24 col0\" >Numeric Imputer</td>\n",
       "      <td id=\"T_8cd4c_row24_col1\" class=\"data row24 col1\" >mean</td>\n",
       "    </tr>\n",
       "    <tr>\n",
       "      <th id=\"T_8cd4c_level0_row25\" class=\"row_heading level0 row25\" >25</th>\n",
       "      <td id=\"T_8cd4c_row25_col0\" class=\"data row25 col0\" >Iterative Imputation Numeric Model</td>\n",
       "      <td id=\"T_8cd4c_row25_col1\" class=\"data row25 col1\" >None</td>\n",
       "    </tr>\n",
       "    <tr>\n",
       "      <th id=\"T_8cd4c_level0_row26\" class=\"row_heading level0 row26\" >26</th>\n",
       "      <td id=\"T_8cd4c_row26_col0\" class=\"data row26 col0\" >Categorical Imputer</td>\n",
       "      <td id=\"T_8cd4c_row26_col1\" class=\"data row26 col1\" >constant</td>\n",
       "    </tr>\n",
       "    <tr>\n",
       "      <th id=\"T_8cd4c_level0_row27\" class=\"row_heading level0 row27\" >27</th>\n",
       "      <td id=\"T_8cd4c_row27_col0\" class=\"data row27 col0\" >Iterative Imputation Categorical Model</td>\n",
       "      <td id=\"T_8cd4c_row27_col1\" class=\"data row27 col1\" >None</td>\n",
       "    </tr>\n",
       "    <tr>\n",
       "      <th id=\"T_8cd4c_level0_row28\" class=\"row_heading level0 row28\" >28</th>\n",
       "      <td id=\"T_8cd4c_row28_col0\" class=\"data row28 col0\" >Unknown Categoricals Handling</td>\n",
       "      <td id=\"T_8cd4c_row28_col1\" class=\"data row28 col1\" >least_frequent</td>\n",
       "    </tr>\n",
       "    <tr>\n",
       "      <th id=\"T_8cd4c_level0_row29\" class=\"row_heading level0 row29\" >29</th>\n",
       "      <td id=\"T_8cd4c_row29_col0\" class=\"data row29 col0\" >Normalize</td>\n",
       "      <td id=\"T_8cd4c_row29_col1\" class=\"data row29 col1\" >False</td>\n",
       "    </tr>\n",
       "    <tr>\n",
       "      <th id=\"T_8cd4c_level0_row30\" class=\"row_heading level0 row30\" >30</th>\n",
       "      <td id=\"T_8cd4c_row30_col0\" class=\"data row30 col0\" >Normalize Method</td>\n",
       "      <td id=\"T_8cd4c_row30_col1\" class=\"data row30 col1\" >None</td>\n",
       "    </tr>\n",
       "    <tr>\n",
       "      <th id=\"T_8cd4c_level0_row31\" class=\"row_heading level0 row31\" >31</th>\n",
       "      <td id=\"T_8cd4c_row31_col0\" class=\"data row31 col0\" >Transformation</td>\n",
       "      <td id=\"T_8cd4c_row31_col1\" class=\"data row31 col1\" >False</td>\n",
       "    </tr>\n",
       "    <tr>\n",
       "      <th id=\"T_8cd4c_level0_row32\" class=\"row_heading level0 row32\" >32</th>\n",
       "      <td id=\"T_8cd4c_row32_col0\" class=\"data row32 col0\" >Transformation Method</td>\n",
       "      <td id=\"T_8cd4c_row32_col1\" class=\"data row32 col1\" >None</td>\n",
       "    </tr>\n",
       "    <tr>\n",
       "      <th id=\"T_8cd4c_level0_row33\" class=\"row_heading level0 row33\" >33</th>\n",
       "      <td id=\"T_8cd4c_row33_col0\" class=\"data row33 col0\" >PCA</td>\n",
       "      <td id=\"T_8cd4c_row33_col1\" class=\"data row33 col1\" >False</td>\n",
       "    </tr>\n",
       "    <tr>\n",
       "      <th id=\"T_8cd4c_level0_row34\" class=\"row_heading level0 row34\" >34</th>\n",
       "      <td id=\"T_8cd4c_row34_col0\" class=\"data row34 col0\" >PCA Method</td>\n",
       "      <td id=\"T_8cd4c_row34_col1\" class=\"data row34 col1\" >None</td>\n",
       "    </tr>\n",
       "    <tr>\n",
       "      <th id=\"T_8cd4c_level0_row35\" class=\"row_heading level0 row35\" >35</th>\n",
       "      <td id=\"T_8cd4c_row35_col0\" class=\"data row35 col0\" >PCA Components</td>\n",
       "      <td id=\"T_8cd4c_row35_col1\" class=\"data row35 col1\" >None</td>\n",
       "    </tr>\n",
       "    <tr>\n",
       "      <th id=\"T_8cd4c_level0_row36\" class=\"row_heading level0 row36\" >36</th>\n",
       "      <td id=\"T_8cd4c_row36_col0\" class=\"data row36 col0\" >Ignore Low Variance</td>\n",
       "      <td id=\"T_8cd4c_row36_col1\" class=\"data row36 col1\" >False</td>\n",
       "    </tr>\n",
       "    <tr>\n",
       "      <th id=\"T_8cd4c_level0_row37\" class=\"row_heading level0 row37\" >37</th>\n",
       "      <td id=\"T_8cd4c_row37_col0\" class=\"data row37 col0\" >Combine Rare Levels</td>\n",
       "      <td id=\"T_8cd4c_row37_col1\" class=\"data row37 col1\" >False</td>\n",
       "    </tr>\n",
       "    <tr>\n",
       "      <th id=\"T_8cd4c_level0_row38\" class=\"row_heading level0 row38\" >38</th>\n",
       "      <td id=\"T_8cd4c_row38_col0\" class=\"data row38 col0\" >Rare Level Threshold</td>\n",
       "      <td id=\"T_8cd4c_row38_col1\" class=\"data row38 col1\" >None</td>\n",
       "    </tr>\n",
       "    <tr>\n",
       "      <th id=\"T_8cd4c_level0_row39\" class=\"row_heading level0 row39\" >39</th>\n",
       "      <td id=\"T_8cd4c_row39_col0\" class=\"data row39 col0\" >Numeric Binning</td>\n",
       "      <td id=\"T_8cd4c_row39_col1\" class=\"data row39 col1\" >False</td>\n",
       "    </tr>\n",
       "    <tr>\n",
       "      <th id=\"T_8cd4c_level0_row40\" class=\"row_heading level0 row40\" >40</th>\n",
       "      <td id=\"T_8cd4c_row40_col0\" class=\"data row40 col0\" >Remove Outliers</td>\n",
       "      <td id=\"T_8cd4c_row40_col1\" class=\"data row40 col1\" >False</td>\n",
       "    </tr>\n",
       "    <tr>\n",
       "      <th id=\"T_8cd4c_level0_row41\" class=\"row_heading level0 row41\" >41</th>\n",
       "      <td id=\"T_8cd4c_row41_col0\" class=\"data row41 col0\" >Outliers Threshold</td>\n",
       "      <td id=\"T_8cd4c_row41_col1\" class=\"data row41 col1\" >None</td>\n",
       "    </tr>\n",
       "    <tr>\n",
       "      <th id=\"T_8cd4c_level0_row42\" class=\"row_heading level0 row42\" >42</th>\n",
       "      <td id=\"T_8cd4c_row42_col0\" class=\"data row42 col0\" >Remove Multicollinearity</td>\n",
       "      <td id=\"T_8cd4c_row42_col1\" class=\"data row42 col1\" >False</td>\n",
       "    </tr>\n",
       "    <tr>\n",
       "      <th id=\"T_8cd4c_level0_row43\" class=\"row_heading level0 row43\" >43</th>\n",
       "      <td id=\"T_8cd4c_row43_col0\" class=\"data row43 col0\" >Multicollinearity Threshold</td>\n",
       "      <td id=\"T_8cd4c_row43_col1\" class=\"data row43 col1\" >None</td>\n",
       "    </tr>\n",
       "    <tr>\n",
       "      <th id=\"T_8cd4c_level0_row44\" class=\"row_heading level0 row44\" >44</th>\n",
       "      <td id=\"T_8cd4c_row44_col0\" class=\"data row44 col0\" >Remove Perfect Collinearity</td>\n",
       "      <td id=\"T_8cd4c_row44_col1\" class=\"data row44 col1\" >True</td>\n",
       "    </tr>\n",
       "    <tr>\n",
       "      <th id=\"T_8cd4c_level0_row45\" class=\"row_heading level0 row45\" >45</th>\n",
       "      <td id=\"T_8cd4c_row45_col0\" class=\"data row45 col0\" >Clustering</td>\n",
       "      <td id=\"T_8cd4c_row45_col1\" class=\"data row45 col1\" >False</td>\n",
       "    </tr>\n",
       "    <tr>\n",
       "      <th id=\"T_8cd4c_level0_row46\" class=\"row_heading level0 row46\" >46</th>\n",
       "      <td id=\"T_8cd4c_row46_col0\" class=\"data row46 col0\" >Clustering Iteration</td>\n",
       "      <td id=\"T_8cd4c_row46_col1\" class=\"data row46 col1\" >None</td>\n",
       "    </tr>\n",
       "    <tr>\n",
       "      <th id=\"T_8cd4c_level0_row47\" class=\"row_heading level0 row47\" >47</th>\n",
       "      <td id=\"T_8cd4c_row47_col0\" class=\"data row47 col0\" >Polynomial Features</td>\n",
       "      <td id=\"T_8cd4c_row47_col1\" class=\"data row47 col1\" >False</td>\n",
       "    </tr>\n",
       "    <tr>\n",
       "      <th id=\"T_8cd4c_level0_row48\" class=\"row_heading level0 row48\" >48</th>\n",
       "      <td id=\"T_8cd4c_row48_col0\" class=\"data row48 col0\" >Polynomial Degree</td>\n",
       "      <td id=\"T_8cd4c_row48_col1\" class=\"data row48 col1\" >None</td>\n",
       "    </tr>\n",
       "    <tr>\n",
       "      <th id=\"T_8cd4c_level0_row49\" class=\"row_heading level0 row49\" >49</th>\n",
       "      <td id=\"T_8cd4c_row49_col0\" class=\"data row49 col0\" >Trignometry Features</td>\n",
       "      <td id=\"T_8cd4c_row49_col1\" class=\"data row49 col1\" >False</td>\n",
       "    </tr>\n",
       "    <tr>\n",
       "      <th id=\"T_8cd4c_level0_row50\" class=\"row_heading level0 row50\" >50</th>\n",
       "      <td id=\"T_8cd4c_row50_col0\" class=\"data row50 col0\" >Polynomial Threshold</td>\n",
       "      <td id=\"T_8cd4c_row50_col1\" class=\"data row50 col1\" >None</td>\n",
       "    </tr>\n",
       "    <tr>\n",
       "      <th id=\"T_8cd4c_level0_row51\" class=\"row_heading level0 row51\" >51</th>\n",
       "      <td id=\"T_8cd4c_row51_col0\" class=\"data row51 col0\" >Group Features</td>\n",
       "      <td id=\"T_8cd4c_row51_col1\" class=\"data row51 col1\" >False</td>\n",
       "    </tr>\n",
       "    <tr>\n",
       "      <th id=\"T_8cd4c_level0_row52\" class=\"row_heading level0 row52\" >52</th>\n",
       "      <td id=\"T_8cd4c_row52_col0\" class=\"data row52 col0\" >Feature Selection</td>\n",
       "      <td id=\"T_8cd4c_row52_col1\" class=\"data row52 col1\" >False</td>\n",
       "    </tr>\n",
       "    <tr>\n",
       "      <th id=\"T_8cd4c_level0_row53\" class=\"row_heading level0 row53\" >53</th>\n",
       "      <td id=\"T_8cd4c_row53_col0\" class=\"data row53 col0\" >Feature Selection Method</td>\n",
       "      <td id=\"T_8cd4c_row53_col1\" class=\"data row53 col1\" >classic</td>\n",
       "    </tr>\n",
       "    <tr>\n",
       "      <th id=\"T_8cd4c_level0_row54\" class=\"row_heading level0 row54\" >54</th>\n",
       "      <td id=\"T_8cd4c_row54_col0\" class=\"data row54 col0\" >Features Selection Threshold</td>\n",
       "      <td id=\"T_8cd4c_row54_col1\" class=\"data row54 col1\" >None</td>\n",
       "    </tr>\n",
       "    <tr>\n",
       "      <th id=\"T_8cd4c_level0_row55\" class=\"row_heading level0 row55\" >55</th>\n",
       "      <td id=\"T_8cd4c_row55_col0\" class=\"data row55 col0\" >Feature Interaction</td>\n",
       "      <td id=\"T_8cd4c_row55_col1\" class=\"data row55 col1\" >False</td>\n",
       "    </tr>\n",
       "    <tr>\n",
       "      <th id=\"T_8cd4c_level0_row56\" class=\"row_heading level0 row56\" >56</th>\n",
       "      <td id=\"T_8cd4c_row56_col0\" class=\"data row56 col0\" >Feature Ratio</td>\n",
       "      <td id=\"T_8cd4c_row56_col1\" class=\"data row56 col1\" >False</td>\n",
       "    </tr>\n",
       "    <tr>\n",
       "      <th id=\"T_8cd4c_level0_row57\" class=\"row_heading level0 row57\" >57</th>\n",
       "      <td id=\"T_8cd4c_row57_col0\" class=\"data row57 col0\" >Interaction Threshold</td>\n",
       "      <td id=\"T_8cd4c_row57_col1\" class=\"data row57 col1\" >None</td>\n",
       "    </tr>\n",
       "    <tr>\n",
       "      <th id=\"T_8cd4c_level0_row58\" class=\"row_heading level0 row58\" >58</th>\n",
       "      <td id=\"T_8cd4c_row58_col0\" class=\"data row58 col0\" >Fix Imbalance</td>\n",
       "      <td id=\"T_8cd4c_row58_col1\" class=\"data row58 col1\" >False</td>\n",
       "    </tr>\n",
       "    <tr>\n",
       "      <th id=\"T_8cd4c_level0_row59\" class=\"row_heading level0 row59\" >59</th>\n",
       "      <td id=\"T_8cd4c_row59_col0\" class=\"data row59 col0\" >Fix Imbalance Method</td>\n",
       "      <td id=\"T_8cd4c_row59_col1\" class=\"data row59 col1\" >SMOTE</td>\n",
       "    </tr>\n",
       "  </tbody>\n",
       "</table>\n"
      ],
      "text/plain": [
       "<pandas.io.formats.style.Styler at 0x237ee685408>"
      ]
     },
     "metadata": {},
     "output_type": "display_data"
    }
   ],
   "source": [
    "_ = setup(data=pd.concat([X_train, target], axis=1), target='SECTION')"
   ]
  },
  {
   "cell_type": "code",
   "execution_count": 16,
   "id": "754ecd67",
   "metadata": {},
   "outputs": [
    {
     "data": {
      "text/html": [
       "<style type=\"text/css\">\n",
       "#T_c501e_ th {\n",
       "  text-align: left;\n",
       "}\n",
       "#T_c501e_row0_col0, #T_c501e_row0_col2, #T_c501e_row1_col0, #T_c501e_row1_col1, #T_c501e_row1_col2, #T_c501e_row1_col4, #T_c501e_row1_col5, #T_c501e_row1_col6, #T_c501e_row1_col7, #T_c501e_row2_col0, #T_c501e_row2_col1, #T_c501e_row2_col3, #T_c501e_row2_col4, #T_c501e_row2_col5, #T_c501e_row2_col6, #T_c501e_row2_col7, #T_c501e_row3_col0, #T_c501e_row3_col1, #T_c501e_row3_col2, #T_c501e_row3_col3, #T_c501e_row3_col4, #T_c501e_row3_col5, #T_c501e_row3_col6, #T_c501e_row3_col7, #T_c501e_row4_col0, #T_c501e_row4_col1, #T_c501e_row4_col2, #T_c501e_row4_col3, #T_c501e_row4_col4, #T_c501e_row4_col5, #T_c501e_row4_col6, #T_c501e_row4_col7, #T_c501e_row5_col0, #T_c501e_row5_col1, #T_c501e_row5_col2, #T_c501e_row5_col3, #T_c501e_row5_col4, #T_c501e_row5_col5, #T_c501e_row5_col6, #T_c501e_row5_col7, #T_c501e_row6_col0, #T_c501e_row6_col1, #T_c501e_row6_col2, #T_c501e_row6_col3, #T_c501e_row6_col4, #T_c501e_row6_col5, #T_c501e_row6_col6, #T_c501e_row6_col7, #T_c501e_row7_col0, #T_c501e_row7_col1, #T_c501e_row7_col2, #T_c501e_row7_col3, #T_c501e_row7_col4, #T_c501e_row7_col5, #T_c501e_row7_col6, #T_c501e_row7_col7, #T_c501e_row8_col0, #T_c501e_row8_col1, #T_c501e_row8_col2, #T_c501e_row8_col3, #T_c501e_row8_col4, #T_c501e_row8_col5, #T_c501e_row8_col6, #T_c501e_row8_col7, #T_c501e_row9_col0, #T_c501e_row9_col1, #T_c501e_row9_col2, #T_c501e_row9_col3, #T_c501e_row9_col4, #T_c501e_row9_col5, #T_c501e_row9_col6, #T_c501e_row9_col7, #T_c501e_row10_col0, #T_c501e_row10_col1, #T_c501e_row10_col2, #T_c501e_row10_col3, #T_c501e_row10_col4, #T_c501e_row10_col5, #T_c501e_row10_col6, #T_c501e_row10_col7, #T_c501e_row11_col0, #T_c501e_row11_col1, #T_c501e_row11_col2, #T_c501e_row11_col3, #T_c501e_row11_col4, #T_c501e_row11_col5, #T_c501e_row11_col6, #T_c501e_row11_col7, #T_c501e_row12_col0, #T_c501e_row12_col1, #T_c501e_row12_col2, #T_c501e_row12_col3, #T_c501e_row12_col4, #T_c501e_row12_col5, #T_c501e_row12_col6, #T_c501e_row12_col7, #T_c501e_row13_col0, #T_c501e_row13_col1, #T_c501e_row13_col2, #T_c501e_row13_col3, #T_c501e_row13_col4, #T_c501e_row13_col5, #T_c501e_row13_col6, #T_c501e_row13_col7 {\n",
       "  text-align: left;\n",
       "}\n",
       "#T_c501e_row0_col1, #T_c501e_row0_col3, #T_c501e_row0_col4, #T_c501e_row0_col5, #T_c501e_row0_col6, #T_c501e_row0_col7, #T_c501e_row1_col3, #T_c501e_row2_col2 {\n",
       "  text-align: left;\n",
       "  background-color: yellow;\n",
       "}\n",
       "#T_c501e_row0_col8, #T_c501e_row13_col8 {\n",
       "  text-align: left;\n",
       "  background-color: yellow;\n",
       "  background-color: lightgrey;\n",
       "}\n",
       "#T_c501e_row1_col8, #T_c501e_row2_col8, #T_c501e_row3_col8, #T_c501e_row4_col8, #T_c501e_row5_col8, #T_c501e_row6_col8, #T_c501e_row7_col8, #T_c501e_row8_col8, #T_c501e_row9_col8, #T_c501e_row10_col8, #T_c501e_row11_col8, #T_c501e_row12_col8 {\n",
       "  text-align: left;\n",
       "  background-color: lightgrey;\n",
       "}\n",
       "</style>\n",
       "<table id=\"T_c501e_\">\n",
       "  <thead>\n",
       "    <tr>\n",
       "      <th class=\"blank level0\" >&nbsp;</th>\n",
       "      <th class=\"col_heading level0 col0\" >Model</th>\n",
       "      <th class=\"col_heading level0 col1\" >Accuracy</th>\n",
       "      <th class=\"col_heading level0 col2\" >AUC</th>\n",
       "      <th class=\"col_heading level0 col3\" >Recall</th>\n",
       "      <th class=\"col_heading level0 col4\" >Prec.</th>\n",
       "      <th class=\"col_heading level0 col5\" >F1</th>\n",
       "      <th class=\"col_heading level0 col6\" >Kappa</th>\n",
       "      <th class=\"col_heading level0 col7\" >MCC</th>\n",
       "      <th class=\"col_heading level0 col8\" >TT (Sec)</th>\n",
       "    </tr>\n",
       "  </thead>\n",
       "  <tbody>\n",
       "    <tr>\n",
       "      <th id=\"T_c501e_level0_row0\" class=\"row_heading level0 row0\" >ridge</th>\n",
       "      <td id=\"T_c501e_row0_col0\" class=\"data row0 col0\" >Ridge Classifier</td>\n",
       "      <td id=\"T_c501e_row0_col1\" class=\"data row0 col1\" >0.9530</td>\n",
       "      <td id=\"T_c501e_row0_col2\" class=\"data row0 col2\" >0.0000</td>\n",
       "      <td id=\"T_c501e_row0_col3\" class=\"data row0 col3\" >0.9521</td>\n",
       "      <td id=\"T_c501e_row0_col4\" class=\"data row0 col4\" >0.9544</td>\n",
       "      <td id=\"T_c501e_row0_col5\" class=\"data row0 col5\" >0.9529</td>\n",
       "      <td id=\"T_c501e_row0_col6\" class=\"data row0 col6\" >0.9355</td>\n",
       "      <td id=\"T_c501e_row0_col7\" class=\"data row0 col7\" >0.9360</td>\n",
       "      <td id=\"T_c501e_row0_col8\" class=\"data row0 col8\" >0.0190</td>\n",
       "    </tr>\n",
       "    <tr>\n",
       "      <th id=\"T_c501e_level0_row1\" class=\"row_heading level0 row1\" >svm</th>\n",
       "      <td id=\"T_c501e_row1_col0\" class=\"data row1 col0\" >SVM - Linear Kernel</td>\n",
       "      <td id=\"T_c501e_row1_col1\" class=\"data row1 col1\" >0.9528</td>\n",
       "      <td id=\"T_c501e_row1_col2\" class=\"data row1 col2\" >0.0000</td>\n",
       "      <td id=\"T_c501e_row1_col3\" class=\"data row1 col3\" >0.9521</td>\n",
       "      <td id=\"T_c501e_row1_col4\" class=\"data row1 col4\" >0.9542</td>\n",
       "      <td id=\"T_c501e_row1_col5\" class=\"data row1 col5\" >0.9527</td>\n",
       "      <td id=\"T_c501e_row1_col6\" class=\"data row1 col6\" >0.9353</td>\n",
       "      <td id=\"T_c501e_row1_col7\" class=\"data row1 col7\" >0.9358</td>\n",
       "      <td id=\"T_c501e_row1_col8\" class=\"data row1 col8\" >0.0560</td>\n",
       "    </tr>\n",
       "    <tr>\n",
       "      <th id=\"T_c501e_level0_row2\" class=\"row_heading level0 row2\" >lightgbm</th>\n",
       "      <td id=\"T_c501e_row2_col0\" class=\"data row2 col0\" >Light Gradient Boosting Machine</td>\n",
       "      <td id=\"T_c501e_row2_col1\" class=\"data row2 col1\" >0.9511</td>\n",
       "      <td id=\"T_c501e_row2_col2\" class=\"data row2 col2\" >0.9952</td>\n",
       "      <td id=\"T_c501e_row2_col3\" class=\"data row2 col3\" >0.9494</td>\n",
       "      <td id=\"T_c501e_row2_col4\" class=\"data row2 col4\" >0.9517</td>\n",
       "      <td id=\"T_c501e_row2_col5\" class=\"data row2 col5\" >0.9510</td>\n",
       "      <td id=\"T_c501e_row2_col6\" class=\"data row2 col6\" >0.9329</td>\n",
       "      <td id=\"T_c501e_row2_col7\" class=\"data row2 col7\" >0.9332</td>\n",
       "      <td id=\"T_c501e_row2_col8\" class=\"data row2 col8\" >1.0000</td>\n",
       "    </tr>\n",
       "    <tr>\n",
       "      <th id=\"T_c501e_level0_row3\" class=\"row_heading level0 row3\" >lr</th>\n",
       "      <td id=\"T_c501e_row3_col0\" class=\"data row3 col0\" >Logistic Regression</td>\n",
       "      <td id=\"T_c501e_row3_col1\" class=\"data row3 col1\" >0.9483</td>\n",
       "      <td id=\"T_c501e_row3_col2\" class=\"data row3 col2\" >0.9949</td>\n",
       "      <td id=\"T_c501e_row3_col3\" class=\"data row3 col3\" >0.9439</td>\n",
       "      <td id=\"T_c501e_row3_col4\" class=\"data row3 col4\" >0.9498</td>\n",
       "      <td id=\"T_c501e_row3_col5\" class=\"data row3 col5\" >0.9482</td>\n",
       "      <td id=\"T_c501e_row3_col6\" class=\"data row3 col6\" >0.9289</td>\n",
       "      <td id=\"T_c501e_row3_col7\" class=\"data row3 col7\" >0.9295</td>\n",
       "      <td id=\"T_c501e_row3_col8\" class=\"data row3 col8\" >0.4070</td>\n",
       "    </tr>\n",
       "    <tr>\n",
       "      <th id=\"T_c501e_level0_row4\" class=\"row_heading level0 row4\" >lda</th>\n",
       "      <td id=\"T_c501e_row4_col0\" class=\"data row4 col0\" >Linear Discriminant Analysis</td>\n",
       "      <td id=\"T_c501e_row4_col1\" class=\"data row4 col1\" >0.9481</td>\n",
       "      <td id=\"T_c501e_row4_col2\" class=\"data row4 col2\" >0.9943</td>\n",
       "      <td id=\"T_c501e_row4_col3\" class=\"data row4 col3\" >0.9441</td>\n",
       "      <td id=\"T_c501e_row4_col4\" class=\"data row4 col4\" >0.9497</td>\n",
       "      <td id=\"T_c501e_row4_col5\" class=\"data row4 col5\" >0.9480</td>\n",
       "      <td id=\"T_c501e_row4_col6\" class=\"data row4 col6\" >0.9287</td>\n",
       "      <td id=\"T_c501e_row4_col7\" class=\"data row4 col7\" >0.9292</td>\n",
       "      <td id=\"T_c501e_row4_col8\" class=\"data row4 col8\" >0.0470</td>\n",
       "    </tr>\n",
       "    <tr>\n",
       "      <th id=\"T_c501e_level0_row5\" class=\"row_heading level0 row5\" >gbc</th>\n",
       "      <td id=\"T_c501e_row5_col0\" class=\"data row5 col0\" >Gradient Boosting Classifier</td>\n",
       "      <td id=\"T_c501e_row5_col1\" class=\"data row5 col1\" >0.9434</td>\n",
       "      <td id=\"T_c501e_row5_col2\" class=\"data row5 col2\" >0.9939</td>\n",
       "      <td id=\"T_c501e_row5_col3\" class=\"data row5 col3\" >0.9407</td>\n",
       "      <td id=\"T_c501e_row5_col4\" class=\"data row5 col4\" >0.9444</td>\n",
       "      <td id=\"T_c501e_row5_col5\" class=\"data row5 col5\" >0.9433</td>\n",
       "      <td id=\"T_c501e_row5_col6\" class=\"data row5 col6\" >0.9223</td>\n",
       "      <td id=\"T_c501e_row5_col7\" class=\"data row5 col7\" >0.9227</td>\n",
       "      <td id=\"T_c501e_row5_col8\" class=\"data row5 col8\" >7.4880</td>\n",
       "    </tr>\n",
       "    <tr>\n",
       "      <th id=\"T_c501e_level0_row6\" class=\"row_heading level0 row6\" >qda</th>\n",
       "      <td id=\"T_c501e_row6_col0\" class=\"data row6 col0\" >Quadratic Discriminant Analysis</td>\n",
       "      <td id=\"T_c501e_row6_col1\" class=\"data row6 col1\" >0.9429</td>\n",
       "      <td id=\"T_c501e_row6_col2\" class=\"data row6 col2\" >0.9905</td>\n",
       "      <td id=\"T_c501e_row6_col3\" class=\"data row6 col3\" >0.9471</td>\n",
       "      <td id=\"T_c501e_row6_col4\" class=\"data row6 col4\" >0.9442</td>\n",
       "      <td id=\"T_c501e_row6_col5\" class=\"data row6 col5\" >0.9429</td>\n",
       "      <td id=\"T_c501e_row6_col6\" class=\"data row6 col6\" >0.9220</td>\n",
       "      <td id=\"T_c501e_row6_col7\" class=\"data row6 col7\" >0.9225</td>\n",
       "      <td id=\"T_c501e_row6_col8\" class=\"data row6 col8\" >0.0260</td>\n",
       "    </tr>\n",
       "    <tr>\n",
       "      <th id=\"T_c501e_level0_row7\" class=\"row_heading level0 row7\" >et</th>\n",
       "      <td id=\"T_c501e_row7_col0\" class=\"data row7 col0\" >Extra Trees Classifier</td>\n",
       "      <td id=\"T_c501e_row7_col1\" class=\"data row7 col1\" >0.9423</td>\n",
       "      <td id=\"T_c501e_row7_col2\" class=\"data row7 col2\" >0.9933</td>\n",
       "      <td id=\"T_c501e_row7_col3\" class=\"data row7 col3\" >0.9370</td>\n",
       "      <td id=\"T_c501e_row7_col4\" class=\"data row7 col4\" >0.9440</td>\n",
       "      <td id=\"T_c501e_row7_col5\" class=\"data row7 col5\" >0.9421</td>\n",
       "      <td id=\"T_c501e_row7_col6\" class=\"data row7 col6\" >0.9206</td>\n",
       "      <td id=\"T_c501e_row7_col7\" class=\"data row7 col7\" >0.9213</td>\n",
       "      <td id=\"T_c501e_row7_col8\" class=\"data row7 col8\" >0.2440</td>\n",
       "    </tr>\n",
       "    <tr>\n",
       "      <th id=\"T_c501e_level0_row8\" class=\"row_heading level0 row8\" >rf</th>\n",
       "      <td id=\"T_c501e_row8_col0\" class=\"data row8 col0\" >Random Forest Classifier</td>\n",
       "      <td id=\"T_c501e_row8_col1\" class=\"data row8 col1\" >0.9337</td>\n",
       "      <td id=\"T_c501e_row8_col2\" class=\"data row8 col2\" >0.9922</td>\n",
       "      <td id=\"T_c501e_row8_col3\" class=\"data row8 col3\" >0.9291</td>\n",
       "      <td id=\"T_c501e_row8_col4\" class=\"data row8 col4\" >0.9350</td>\n",
       "      <td id=\"T_c501e_row8_col5\" class=\"data row8 col5\" >0.9335</td>\n",
       "      <td id=\"T_c501e_row8_col6\" class=\"data row8 col6\" >0.9087</td>\n",
       "      <td id=\"T_c501e_row8_col7\" class=\"data row8 col7\" >0.9093</td>\n",
       "      <td id=\"T_c501e_row8_col8\" class=\"data row8 col8\" >0.4790</td>\n",
       "    </tr>\n",
       "    <tr>\n",
       "      <th id=\"T_c501e_level0_row9\" class=\"row_heading level0 row9\" >knn</th>\n",
       "      <td id=\"T_c501e_row9_col0\" class=\"data row9 col0\" >K Neighbors Classifier</td>\n",
       "      <td id=\"T_c501e_row9_col1\" class=\"data row9 col1\" >0.9090</td>\n",
       "      <td id=\"T_c501e_row9_col2\" class=\"data row9 col2\" >0.9789</td>\n",
       "      <td id=\"T_c501e_row9_col3\" class=\"data row9 col3\" >0.9064</td>\n",
       "      <td id=\"T_c501e_row9_col4\" class=\"data row9 col4\" >0.9161</td>\n",
       "      <td id=\"T_c501e_row9_col5\" class=\"data row9 col5\" >0.9092</td>\n",
       "      <td id=\"T_c501e_row9_col6\" class=\"data row9 col6\" >0.8752</td>\n",
       "      <td id=\"T_c501e_row9_col7\" class=\"data row9 col7\" >0.8775</td>\n",
       "      <td id=\"T_c501e_row9_col8\" class=\"data row9 col8\" >0.1580</td>\n",
       "    </tr>\n",
       "    <tr>\n",
       "      <th id=\"T_c501e_level0_row10\" class=\"row_heading level0 row10\" >ada</th>\n",
       "      <td id=\"T_c501e_row10_col0\" class=\"data row10 col0\" >Ada Boost Classifier</td>\n",
       "      <td id=\"T_c501e_row10_col1\" class=\"data row10 col1\" >0.8837</td>\n",
       "      <td id=\"T_c501e_row10_col2\" class=\"data row10 col2\" >0.9332</td>\n",
       "      <td id=\"T_c501e_row10_col3\" class=\"data row10 col3\" >0.8785</td>\n",
       "      <td id=\"T_c501e_row10_col4\" class=\"data row10 col4\" >0.8856</td>\n",
       "      <td id=\"T_c501e_row10_col5\" class=\"data row10 col5\" >0.8835</td>\n",
       "      <td id=\"T_c501e_row10_col6\" class=\"data row10 col6\" >0.8401</td>\n",
       "      <td id=\"T_c501e_row10_col7\" class=\"data row10 col7\" >0.8407</td>\n",
       "      <td id=\"T_c501e_row10_col8\" class=\"data row10 col8\" >0.4230</td>\n",
       "    </tr>\n",
       "    <tr>\n",
       "      <th id=\"T_c501e_level0_row11\" class=\"row_heading level0 row11\" >dt</th>\n",
       "      <td id=\"T_c501e_row11_col0\" class=\"data row11 col0\" >Decision Tree Classifier</td>\n",
       "      <td id=\"T_c501e_row11_col1\" class=\"data row11 col1\" >0.8663</td>\n",
       "      <td id=\"T_c501e_row11_col2\" class=\"data row11 col2\" >0.9092</td>\n",
       "      <td id=\"T_c501e_row11_col3\" class=\"data row11 col3\" >0.8605</td>\n",
       "      <td id=\"T_c501e_row11_col4\" class=\"data row11 col4\" >0.8667</td>\n",
       "      <td id=\"T_c501e_row11_col5\" class=\"data row11 col5\" >0.8661</td>\n",
       "      <td id=\"T_c501e_row11_col6\" class=\"data row11 col6\" >0.8164</td>\n",
       "      <td id=\"T_c501e_row11_col7\" class=\"data row11 col7\" >0.8167</td>\n",
       "      <td id=\"T_c501e_row11_col8\" class=\"data row11 col8\" >0.1020</td>\n",
       "    </tr>\n",
       "    <tr>\n",
       "      <th id=\"T_c501e_level0_row12\" class=\"row_heading level0 row12\" >nb</th>\n",
       "      <td id=\"T_c501e_row12_col0\" class=\"data row12 col0\" >Naive Bayes</td>\n",
       "      <td id=\"T_c501e_row12_col1\" class=\"data row12 col1\" >0.8134</td>\n",
       "      <td id=\"T_c501e_row12_col2\" class=\"data row12 col2\" >0.9397</td>\n",
       "      <td id=\"T_c501e_row12_col3\" class=\"data row12 col3\" >0.8231</td>\n",
       "      <td id=\"T_c501e_row12_col4\" class=\"data row12 col4\" >0.8368</td>\n",
       "      <td id=\"T_c501e_row12_col5\" class=\"data row12 col5\" >0.8171</td>\n",
       "      <td id=\"T_c501e_row12_col6\" class=\"data row12 col6\" >0.7459</td>\n",
       "      <td id=\"T_c501e_row12_col7\" class=\"data row12 col7\" >0.7524</td>\n",
       "      <td id=\"T_c501e_row12_col8\" class=\"data row12 col8\" >0.0200</td>\n",
       "    </tr>\n",
       "    <tr>\n",
       "      <th id=\"T_c501e_level0_row13\" class=\"row_heading level0 row13\" >dummy</th>\n",
       "      <td id=\"T_c501e_row13_col0\" class=\"data row13 col0\" >Dummy Classifier</td>\n",
       "      <td id=\"T_c501e_row13_col1\" class=\"data row13 col1\" >0.3636</td>\n",
       "      <td id=\"T_c501e_row13_col2\" class=\"data row13 col2\" >0.5000</td>\n",
       "      <td id=\"T_c501e_row13_col3\" class=\"data row13 col3\" >0.2500</td>\n",
       "      <td id=\"T_c501e_row13_col4\" class=\"data row13 col4\" >0.1322</td>\n",
       "      <td id=\"T_c501e_row13_col5\" class=\"data row13 col5\" >0.1939</td>\n",
       "      <td id=\"T_c501e_row13_col6\" class=\"data row13 col6\" >0.0000</td>\n",
       "      <td id=\"T_c501e_row13_col7\" class=\"data row13 col7\" >0.0000</td>\n",
       "      <td id=\"T_c501e_row13_col8\" class=\"data row13 col8\" >0.0190</td>\n",
       "    </tr>\n",
       "  </tbody>\n",
       "</table>\n"
      ],
      "text/plain": [
       "<pandas.io.formats.style.Styler at 0x237ed1bc088>"
      ]
     },
     "metadata": {},
     "output_type": "display_data"
    }
   ],
   "source": [
    "best = compare_models()"
   ]
  },
  {
   "cell_type": "code",
   "execution_count": 17,
   "id": "1740e978",
   "metadata": {},
   "outputs": [
    {
     "data": {
      "application/vnd.jupyter.widget-view+json": {
       "model_id": "d446f13a424b470ab2476f19bbf62199",
       "version_major": 2,
       "version_minor": 0
      },
      "text/plain": [
       "interactive(children=(ToggleButtons(description='Plot Type:', icons=('',), options=(('Hyperparameters', 'param…"
      ]
     },
     "metadata": {},
     "output_type": "display_data"
    }
   ],
   "source": [
    "evaluate_model(best)"
   ]
  },
  {
   "cell_type": "code",
   "execution_count": 18,
   "id": "23665296",
   "metadata": {},
   "outputs": [
    {
     "data": {
      "image/png": "[encoded data removed]",
      "text/plain": [
       "<Figure size 800x550 with 1 Axes>"
      ]
     },
     "metadata": {},
     "output_type": "display_data"
    }
   ],
   "source": [
    "plot_model(best, plot = 'confusion_matrix')"
   ]
  },
  {
   "cell_type": "code",
   "execution_count": null,
   "id": "69f9d5f3",
   "metadata": {},
   "outputs": [],
   "source": []
  },
  {
   "cell_type": "code",
   "execution_count": null,
   "id": "d9c4316c",
   "metadata": {},
   "outputs": [],
   "source": [
    "# X_test = vectorizer.transform(test['STORY'])\n",
    "# X_test = pca.transform(X_test.toarray())"
   ]
  }
 ],
 "metadata": {
  "kernelspec": {
   "display_name": "Python 3 (ipykernel)",
   "language": "python",
   "name": "python3"
  },
  "language_info": {
   "codemirror_mode": {
    "name": "ipython",
    "version": 3
   },
   "file_extension": ".py",
   "mimetype": "text/x-python",
   "name": "python",
   "nbconvert_exporter": "python",
   "pygments_lexer": "ipython3",
   "version": "3.7.15"
  }
 },
 "nbformat": 4,
 "nbformat_minor": 5
}
